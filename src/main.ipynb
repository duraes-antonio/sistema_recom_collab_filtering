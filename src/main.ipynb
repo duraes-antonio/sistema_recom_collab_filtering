{
 "cells": [
  {
   "cell_type": "code",
   "execution_count": null,
   "metadata": {
    "collapsed": true
   },
   "outputs": [],
   "source": [
    "from typing import List\n",
    "from src.movie import *\n",
    "\n",
    "def popular_filmes(csv_path: str) -> List[Filme]:\n",
    "    with open(csv_path, mode='r', encoding='utf-8') as csv:\n",
    "        linhas = csv.readlines()\n",
    "        del linhas[0]\n",
    "        return [parser_linha_filme(l) for l in csv.readlines()]\n",
    "\n",
    "filmes = popular_filmes('../data/ml-latest-small/movies.csv')\n",
    "[print(f) for f in filmes]"
   ]
  }
 ],
 "metadata": {
  "kernelspec": {
   "display_name": "Python 3",
   "language": "python",
   "name": "python3"
  },
  "language_info": {
   "codemirror_mode": {
    "name": "ipython",
    "version": 2
   },
   "file_extension": ".py",
   "mimetype": "text/x-python",
   "name": "python",
   "nbconvert_exporter": "python",
   "pygments_lexer": "ipython2",
   "version": "2.7.6"
  }
 },
 "nbformat": 4,
 "nbformat_minor": 0
}